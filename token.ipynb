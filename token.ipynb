{
  "nbformat": 4,
  "nbformat_minor": 0,
  "metadata": {
    "colab": {
      "name": "token.ipynb",
      "provenance": [],
      "authorship_tag": "ABX9TyPaE45LbTIGO0lJimzjX0ds",
      "include_colab_link": true
    },
    "kernelspec": {
      "name": "python3",
      "display_name": "Python 3"
    },
    "language_info": {
      "name": "python"
    }
  },
  "cells": [
    {
      "cell_type": "markdown",
      "metadata": {
        "id": "view-in-github",
        "colab_type": "text"
      },
      "source": [
        "<a href=\"https://colab.research.google.com/github/rsnsingh/AI_Logic_Programming/blob/main/token.ipynb\" target=\"_parent\"><img src=\"https://colab.research.google.com/assets/colab-badge.svg\" alt=\"Open In Colab\"/></a>"
      ]
    },
    {
      "cell_type": "code",
      "metadata": {
        "colab": {
          "base_uri": "https://localhost:8080/"
        },
        "id": "rMc_DP4NI-9n",
        "outputId": "41677fb2-1833-4028-c01c-6e0975442ab2"
      },
      "source": [
        "import nltk\n",
        "\n",
        "# nltk tokenizer requires punkt package\n",
        "# download if not downloaded or not up-to-date\n",
        "nltk.download('punkt')\n",
        "\n",
        "# input text\n",
        "sentence = \"\"\"Today’s morning, Amar felt very good.\"\"\"\n",
        "\n",
        "# tokene into words\n",
        "tokens = nltk.word_tokenize(sentence)\n",
        "\n",
        "# print tokens\n",
        "print(tokens)"
      ],
      "execution_count": 1,
      "outputs": [
        {
          "output_type": "stream",
          "name": "stdout",
          "text": [
            "[nltk_data] Downloading package punkt to /root/nltk_data...\n",
            "[nltk_data]   Unzipping tokenizers/punkt.zip.\n",
            "['Today', '’', 's', 'morning', ',', 'Amar', 'felt', 'very', 'good', '.']\n"
          ]
        }
      ]
    },
    {
      "cell_type": "code",
      "metadata": {
        "id": "bf_j96WeJTa9"
      },
      "source": [
        ""
      ],
      "execution_count": null,
      "outputs": []
    }
  ]
}