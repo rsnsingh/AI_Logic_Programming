{
  "nbformat": 4,
  "nbformat_minor": 0,
  "metadata": {
    "colab": {
      "name": "family_tree1.ipynb",
      "provenance": [],
      "collapsed_sections": [],
      "authorship_tag": "ABX9TyNqBCr8l2QQ6hs8sS3rZxal",
      "include_colab_link": true
    },
    "kernelspec": {
      "name": "python3",
      "display_name": "Python 3"
    },
    "language_info": {
      "name": "python"
    }
  },
  "cells": [
    {
      "cell_type": "markdown",
      "metadata": {
        "id": "view-in-github",
        "colab_type": "text"
      },
      "source": [
        "<a href=\"https://colab.research.google.com/github/rsnsingh/AI_Logic_Programming/blob/main/family_tree1.ipynb\" target=\"_parent\"><img src=\"https://colab.research.google.com/assets/colab-badge.svg\" alt=\"Open In Colab\"/></a>"
      ]
    },
    {
      "cell_type": "code",
      "metadata": {
        "id": "bf_j96WeJTa9",
        "colab": {
          "base_uri": "https://localhost:8080/",
          "height": 338
        },
        "outputId": "45ee205c-4cf0-4b1a-aa35-754668dc7f67"
      },
      "source": [
        "import json\n",
        "#import logpy\n",
        "#! pip install 'git+https://github.com/MHordecki/LogPy#egg=logPy'\n",
        "#import logpy\n",
        "#!pip install kanren \n",
        "import kanren\n",
        "from kanren import Relation, facts, run, conde, var, eq\n",
        "def parent(x,y):\n",
        "  return conde([father(x,y)],[mother(x,y)])\n",
        "def grandparent(x,y):\n",
        "  temp  = var()\n",
        "  return conde((parent(x,temp)),parent((temp,y)))\n",
        "def sibling(x,y):\n",
        "  temp = var()\n",
        "  return conde((parent(temp,x),parent(temp,y)))\n",
        "def uncle(x,y):\n",
        "  temp = var()    \n",
        "  return conde((father(temp,x),grandparent(temp,y)))   \n",
        "if __name__ =='__main__':\n",
        "  father=Relation()\n",
        "  mother=Relation()  \n",
        "#with open('relations.json') as f:\n",
        "with open(os.path.join(path,'relations.json') ,'r') as f:  \n",
        "  d=json.loads(f.read())\n",
        "for item in d ['father']:\n",
        "  facts(father,(list(item.keys())[0],list(item.values())[0])) \n",
        "for item in d['mother']:\n",
        "  facts(mother,(list(item.keys())[0],list(item.values())[0]))\n",
        "x=var()\n",
        "name='John'\n",
        "output=run(0,x,father(name,x))\n",
        "print(\"\\n List of \"+ name + \"'s children:\")\n",
        "for item in output:\n",
        "  print(item)\n",
        "\n"
      ],
      "execution_count": 9,
      "outputs": [
        {
          "output_type": "stream",
          "name": "stdout",
          "text": [
            "Requirement already satisfied: kanren in /usr/local/lib/python3.7/dist-packages (0.2.3)\n",
            "Requirement already satisfied: multipledispatch in /usr/local/lib/python3.7/dist-packages (from kanren) (0.6.0)\n",
            "Requirement already satisfied: unification in /usr/local/lib/python3.7/dist-packages (from kanren) (0.2.2)\n",
            "Requirement already satisfied: toolz in /usr/local/lib/python3.7/dist-packages (from kanren) (0.11.2)\n",
            "Requirement already satisfied: six in /usr/local/lib/python3.7/dist-packages (from multipledispatch->kanren) (1.15.0)\n"
          ]
        },
        {
          "output_type": "error",
          "ename": "NameError",
          "evalue": "ignored",
          "traceback": [
            "\u001b[0;31m---------------------------------------------------------------------------\u001b[0m",
            "\u001b[0;31mNameError\u001b[0m                                 Traceback (most recent call last)",
            "\u001b[0;32m<ipython-input-9-d24f2d5aa15c>\u001b[0m in \u001b[0;36m<module>\u001b[0;34m()\u001b[0m\n\u001b[1;32m     21\u001b[0m   \u001b[0mmother\u001b[0m\u001b[0;34m=\u001b[0m\u001b[0mRelation\u001b[0m\u001b[0;34m(\u001b[0m\u001b[0;34m)\u001b[0m\u001b[0;34m\u001b[0m\u001b[0;34m\u001b[0m\u001b[0m\n\u001b[1;32m     22\u001b[0m \u001b[0;31m#with open('relations.json') as f:\u001b[0m\u001b[0;34m\u001b[0m\u001b[0;34m\u001b[0m\u001b[0;34m\u001b[0m\u001b[0m\n\u001b[0;32m---> 23\u001b[0;31m \u001b[0;32mwith\u001b[0m \u001b[0mopen\u001b[0m\u001b[0;34m(\u001b[0m\u001b[0mos\u001b[0m\u001b[0;34m.\u001b[0m\u001b[0mpath\u001b[0m\u001b[0;34m.\u001b[0m\u001b[0mjoin\u001b[0m\u001b[0;34m(\u001b[0m\u001b[0mpath\u001b[0m\u001b[0;34m,\u001b[0m\u001b[0;34m'relations.json'\u001b[0m\u001b[0;34m)\u001b[0m \u001b[0;34m,\u001b[0m\u001b[0;34m'r'\u001b[0m\u001b[0;34m)\u001b[0m \u001b[0;32mas\u001b[0m \u001b[0mf\u001b[0m\u001b[0;34m:\u001b[0m\u001b[0;34m\u001b[0m\u001b[0;34m\u001b[0m\u001b[0m\n\u001b[0m\u001b[1;32m     24\u001b[0m   \u001b[0md\u001b[0m\u001b[0;34m=\u001b[0m\u001b[0mjson\u001b[0m\u001b[0;34m.\u001b[0m\u001b[0mloads\u001b[0m\u001b[0;34m(\u001b[0m\u001b[0mf\u001b[0m\u001b[0;34m.\u001b[0m\u001b[0mread\u001b[0m\u001b[0;34m(\u001b[0m\u001b[0;34m)\u001b[0m\u001b[0;34m)\u001b[0m\u001b[0;34m\u001b[0m\u001b[0;34m\u001b[0m\u001b[0m\n\u001b[1;32m     25\u001b[0m \u001b[0;32mfor\u001b[0m \u001b[0mitem\u001b[0m \u001b[0;32min\u001b[0m \u001b[0md\u001b[0m \u001b[0;34m[\u001b[0m\u001b[0;34m'father'\u001b[0m\u001b[0;34m]\u001b[0m\u001b[0;34m:\u001b[0m\u001b[0;34m\u001b[0m\u001b[0;34m\u001b[0m\u001b[0m\n",
            "\u001b[0;31mNameError\u001b[0m: name 'os' is not defined"
          ]
        }
      ]
    },
    {
      "cell_type": "code",
      "metadata": {
        "id": "K6spiij-wlMz"
      },
      "source": [
        ""
      ],
      "execution_count": null,
      "outputs": []
    },
    {
      "cell_type": "code",
      "metadata": {
        "colab": {
          "base_uri": "https://localhost:8080/",
          "height": 393
        },
        "id": "OgkJcD9MwnRJ",
        "outputId": "da41466e-dbe7-4edc-9e66-1fab5038bc73"
      },
      "source": [
        "import json\n",
        "pip install 'git+https://github.com/MHordecki/LogPy#egg=logPy'\n",
        "from logpy import Relation, facts, run, conde, var, eq\n",
        "def parent(x,y):\n",
        "  return conde([father(x,y)],[mother(x,y)])\n",
        "def grandparent(x,y):\n",
        "  temp  = var()\n",
        "  return conde((parent(x,temp)),parent((temp,y)))\n",
        "def sibling(x,y):\n",
        "  temp = var()\n",
        "  return conde((parent(temp,x),parent(temp,y)))\n",
        "def uncle(x,y):\n",
        "  temp = var()    \n",
        "  return conde((father(temp,x),grandparent(temp,y)))   \n",
        "if __name__ =='__main__':\n",
        "  father=Relation()\n",
        "  mother=Relation()  \n",
        "with open('relations.json') as f:\n",
        "  d=json.loads(f.read())\n",
        "for item in d ['father']:\n",
        "  facts(father,(list(item.keys())[0],list(item.values())[0])) \n",
        "for item in d['mother']:\n",
        "  facts(mother,(list(item.keys())[0],list(item.values())[0]))\n",
        "x=var()\n",
        "name='John'\n",
        "output=run(0,x,father(name,x))\n",
        "print(\"\\n List of \"+ name + \"'s children:\")\n",
        "for item in output:\n",
        "  print(item)\n",
        "\n"
      ],
      "execution_count": null,
      "outputs": [
        {
          "output_type": "error",
          "ename": "ModuleNotFoundError",
          "evalue": "ignored",
          "traceback": [
            "\u001b[0;31m---------------------------------------------------------------------------\u001b[0m",
            "\u001b[0;31mModuleNotFoundError\u001b[0m                       Traceback (most recent call last)",
            "\u001b[0;32m<ipython-input-1-4f0a9d612362>\u001b[0m in \u001b[0;36m<module>\u001b[0;34m()\u001b[0m\n\u001b[1;32m      1\u001b[0m \u001b[0;32mimport\u001b[0m \u001b[0mjson\u001b[0m\u001b[0;34m\u001b[0m\u001b[0;34m\u001b[0m\u001b[0m\n\u001b[0;32m----> 2\u001b[0;31m \u001b[0;32mfrom\u001b[0m \u001b[0mlogpy\u001b[0m \u001b[0;32mimport\u001b[0m \u001b[0mRelation\u001b[0m\u001b[0;34m,\u001b[0m \u001b[0mfacts\u001b[0m\u001b[0;34m,\u001b[0m \u001b[0mrun\u001b[0m\u001b[0;34m,\u001b[0m \u001b[0mconde\u001b[0m\u001b[0;34m,\u001b[0m \u001b[0mvar\u001b[0m\u001b[0;34m,\u001b[0m \u001b[0meq\u001b[0m\u001b[0;34m\u001b[0m\u001b[0;34m\u001b[0m\u001b[0m\n\u001b[0m\u001b[1;32m      3\u001b[0m \u001b[0;32mdef\u001b[0m \u001b[0mparent\u001b[0m\u001b[0;34m(\u001b[0m\u001b[0mx\u001b[0m\u001b[0;34m,\u001b[0m\u001b[0my\u001b[0m\u001b[0;34m)\u001b[0m\u001b[0;34m:\u001b[0m\u001b[0;34m\u001b[0m\u001b[0;34m\u001b[0m\u001b[0m\n\u001b[1;32m      4\u001b[0m   \u001b[0;32mreturn\u001b[0m \u001b[0mconde\u001b[0m\u001b[0;34m(\u001b[0m\u001b[0;34m[\u001b[0m\u001b[0mfather\u001b[0m\u001b[0;34m(\u001b[0m\u001b[0mx\u001b[0m\u001b[0;34m,\u001b[0m\u001b[0my\u001b[0m\u001b[0;34m)\u001b[0m\u001b[0;34m]\u001b[0m\u001b[0;34m,\u001b[0m\u001b[0;34m[\u001b[0m\u001b[0mmother\u001b[0m\u001b[0;34m(\u001b[0m\u001b[0mx\u001b[0m\u001b[0;34m,\u001b[0m\u001b[0my\u001b[0m\u001b[0;34m)\u001b[0m\u001b[0;34m]\u001b[0m\u001b[0;34m)\u001b[0m\u001b[0;34m\u001b[0m\u001b[0;34m\u001b[0m\u001b[0m\n\u001b[1;32m      5\u001b[0m \u001b[0;32mdef\u001b[0m \u001b[0mgrandparent\u001b[0m\u001b[0;34m(\u001b[0m\u001b[0mx\u001b[0m\u001b[0;34m,\u001b[0m\u001b[0my\u001b[0m\u001b[0;34m)\u001b[0m\u001b[0;34m:\u001b[0m\u001b[0;34m\u001b[0m\u001b[0;34m\u001b[0m\u001b[0m\n",
            "\u001b[0;31mModuleNotFoundError\u001b[0m: No module named 'logpy'",
            "",
            "\u001b[0;31m---------------------------------------------------------------------------\u001b[0;32m\nNOTE: If your import is failing due to a missing package, you can\nmanually install dependencies using either !pip or !apt.\n\nTo view examples of installing some common dependencies, click the\n\"Open Examples\" button below.\n\u001b[0;31m---------------------------------------------------------------------------\u001b[0m\n"
          ],
          "errorDetails": {
            "actions": [
              {
                "action": "open_url",
                "actionText": "Open Examples",
                "url": "/notebooks/snippets/importing_libraries.ipynb"
              }
            ]
          }
        }
      ]
    }
  ]
}