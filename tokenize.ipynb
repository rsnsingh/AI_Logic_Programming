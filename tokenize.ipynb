{
  "nbformat": 4,
  "nbformat_minor": 0,
  "metadata": {
    "colab": {
      "provenance": [],
      "authorship_tag": "ABX9TyNsLjb/9Ne7ZlvCyJ2rAoMc",
      "include_colab_link": true
    },
    "kernelspec": {
      "name": "python3",
      "display_name": "Python 3"
    },
    "language_info": {
      "name": "python"
    }
  },
  "cells": [
    {
      "cell_type": "markdown",
      "metadata": {
        "id": "view-in-github",
        "colab_type": "text"
      },
      "source": [
        "<a href=\"https://colab.research.google.com/github/rsnsingh/AI_Logic_Programming/blob/main/tokenize.ipynb\" target=\"_parent\"><img src=\"https://colab.research.google.com/assets/colab-badge.svg\" alt=\"Open In Colab\"/></a>"
      ]
    },
    {
      "cell_type": "code",
      "execution_count": 1,
      "metadata": {
        "colab": {
          "base_uri": "https://localhost:8080/"
        },
        "id": "Y0Oj-Xp_FsIy",
        "outputId": "b0fb5080-1804-4658-e9ce-ca737f257116"
      },
      "outputs": [
        {
          "output_type": "stream",
          "name": "stdout",
          "text": [
            "The original list : ['Geeks for Geeks', 'is', 'best computer science portal']\n",
            "The list after split of strings is : [['Geeks', 'for', 'Geeks'], ['is'], ['best', 'computer', 'science', 'portal']]\n"
          ]
        }
      ],
      "source": [
        "# Python3 code to demonstrate\n",
        "# Tokenizing strings in list of strings\n",
        "# using list comprehension + split()\n",
        "\n",
        "# initializing list\n",
        "test_list = ['Geeks for Geeks', 'is', 'best computer science portal']\n",
        "\n",
        "# printing original list\n",
        "print(\"The original list : \" + str(test_list))\n",
        "\n",
        "# using list comprehension + split()\n",
        "# Tokenizing strings in list of strings\n",
        "res = [sub.split() for sub in test_list]\n",
        "\n",
        "# print result\n",
        "print(\"The list after split of strings is : \" + str(res))\n"
      ]
    }
  ]
}