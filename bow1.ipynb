{
  "nbformat": 4,
  "nbformat_minor": 0,
  "metadata": {
    "colab": {
      "name": "bow1.ipynb",
      "provenance": [],
      "collapsed_sections": [],
      "authorship_tag": "ABX9TyNL5/qCCh6/gtPMDHxOxmrB",
      "include_colab_link": true
    },
    "kernelspec": {
      "name": "python3",
      "display_name": "Python 3"
    },
    "language_info": {
      "name": "python"
    }
  },
  "cells": [
    {
      "cell_type": "markdown",
      "metadata": {
        "id": "view-in-github",
        "colab_type": "text"
      },
      "source": [
        "<a href=\"https://colab.research.google.com/github/rsnsingh/AI_Logic_Programming/blob/main/bow1.ipynb\" target=\"_parent\"><img src=\"https://colab.research.google.com/assets/colab-badge.svg\" alt=\"Open In Colab\"/></a>"
      ]
    },
    {
      "cell_type": "code",
      "metadata": {
        "id": "g19aKz50RAfD"
      },
      "source": [
        "# Imports \n",
        "import numpy as np\n",
        "import pandas as pd\n",
        "import os\n",
        "from sklearn.feature_extraction.text import CountVectorizer\n",
        "\n",
        "# Let's create sample data\n",
        "data = ['We are good',\n",
        "        'We are becoming better',\n",
        "        'We will be great',\n",
        "        'We will be the power of the worlds',\n",
        "        'We are intelligent students of GNIMT',\n",
        "        'GNIMT is a great college']\n",
        "\n",
        "# Instantiate count vectorizer\n",
        "countvec = CountVectorizer()\n",
        "cdf = countvec.fit_transform(data)\n",
        "bow = pd.DataFrame(cdf.toarray(), columns = countvec.get_feature_names())\n",
        "bow"
      ],
      "execution_count": null,
      "outputs": []
    }
  ]
}